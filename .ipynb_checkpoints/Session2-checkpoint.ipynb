{
 "cells": [
  {
   "cell_type": "markdown",
   "metadata": {},
   "source": [
    "# first example he economics automation \n",
    "## import librairies"
   ]
  },
  {
   "cell_type": "code",
   "execution_count": 29,
   "metadata": {},
   "outputs": [],
   "source": [
    "import pandas # allows to manipulate datas easily and recover data from excel files"
   ]
  },
  {
   "cell_type": "markdown",
   "metadata": {},
   "source": [
    "# import excel"
   ]
  },
  {
   "cell_type": "code",
   "execution_count": 34,
   "metadata": {},
   "outputs": [],
   "source": [
    "filename = 'C:\\\\Users\\\\Manon\\\\Documents\\\\Cours UTC\\\\GB06\\\\US02\\\\Data-sheet-STUDENTS.xlsx' # give a name to our excel\n",
    "df = pandas.read_excel(filename, header=2, usecols='B:AR') #df =datafile + read an excel started from row 2 and column B \n",
    "#df.describe() # allows to have a quick view of datas"
   ]
  },
  {
   "cell_type": "code",
   "execution_count": 38,
   "metadata": {},
   "outputs": [
    {
     "name": "stdout",
     "output_type": "stream",
     "text": [
      "Afghanistan\n",
      "Albania\n",
      "Armenia\n",
      "Azerbaijan\n",
      "Bahrain\n",
      "Bangladesh\n",
      "Belarus\n",
      "Bhutan\n",
      "Bosnia and Herzegovina\n",
      "Brunei\n",
      "Bulgaria\n",
      "Cambodia\n",
      "China\n",
      "Croatia\n",
      "Czech Republic\n",
      "East Timor\n",
      "Egypt\n",
      "Estonia\n",
      "France\n",
      "Georgia\n",
      "Germany\n",
      "Hungary\n",
      "India\n",
      "Indonesia\n",
      "Iran\n",
      "Iraq\n",
      "Israel\n",
      "Jordan\n",
      "Kazakhstan\n",
      "Kuwait\n",
      "Kyrgyzstan\n",
      "Laos\n",
      "Latvia\n",
      "Lebanon\n",
      "Lithuania\n",
      "Macedonia\n",
      "Malaysia\n",
      "Maldives\n",
      "Moldova\n",
      "Mongolia\n",
      "Montenegro\n",
      "Myanmar\n",
      "Nepal\n",
      "Oman\n",
      "Pakistan\n",
      "Philippines\n",
      "Poland\n",
      "Qatar\n",
      "Romania\n",
      "Russia\n",
      "Saudi Arabia\n",
      "Serbia\n",
      "Singapore\n",
      "Slovakia\n",
      "Slovenia\n",
      "Sri Lanka\n",
      "Syria\n",
      "Tajikistan\n",
      "Thailiand\n",
      "The United Arab Emirates\n",
      "Turkey\n",
      "Turkmenistan\n",
      "United Kingdom\n",
      "United States of America\n",
      "Ukraine\n",
      "Uzbekistan\n",
      "Vietnam\n",
      "Yemen\n"
     ]
    }
   ],
   "source": [
    "df['Country (according to CN Gov):'] # show the column with this title \n",
    "for country in df['Country (according to CN Gov):'] : # for loop= for each country do\n",
    "    print (country.split('(')[0].strip()) # split : divise the string in several words, strip : delete spaces before the differents words"
   ]
  },
  {
   "cell_type": "code",
   "execution_count": 39,
   "metadata": {},
   "outputs": [],
   "source": [
    "import requests # library to call stuff on the internet, allow to make http requests "
   ]
  },
  {
   "cell_type": "code",
   "execution_count": 40,
   "metadata": {},
   "outputs": [
    {
     "name": "stdout",
     "output_type": "stream",
     "text": [
      "200\n",
      "data for Brazil is 3.87730742935074\n"
     ]
    }
   ],
   "source": [
    "url = 'http://api.worldbank.org/v2/country/bra/indicator/GC.TAX.IMPT.ZS?format=json' # names the url\n",
    "r= requests.get(url) # to get datas from a special resource, don't care if everybody can see it\n",
    "print(r.status_code) # give the status of our request for example 404 means : not found 200 means : OK\n",
    "data=r.json() # we get a dictionnary \n",
    "print('data for', data[1][1]['country']['value'], 'is', data[1][1]['value']) # print the country name and the value corresponding\n"
   ]
  },
  {
   "cell_type": "code",
   "execution_count": 42,
   "metadata": {},
   "outputs": [
    {
     "name": "stdout",
     "output_type": "stream",
     "text": [
      "France FRA\n"
     ]
    }
   ],
   "source": [
    "country_name = 'France'\n",
    "url='https://restcountries.eu/rest/v2/name/' + country_name # URL to connect a country name and its ID code\n",
    "r = requests.get(url)\n",
    "data = r.json()\n",
    "print(country_name, data[0]['alpha3Code']) # print the country name and its ID code\n"
   ]
  },
  {
   "cell_type": "code",
   "execution_count": null,
   "metadata": {},
   "outputs": [],
   "source": [
    "test"
   ]
  },
  {
   "cell_type": "code",
   "execution_count": null,
   "metadata": {},
   "outputs": [],
   "source": []
  }
 ],
 "metadata": {
  "kernelspec": {
   "display_name": "Python 3",
   "language": "python",
   "name": "python3"
  },
  "language_info": {
   "codemirror_mode": {
    "name": "ipython",
    "version": 3
   },
   "file_extension": ".py",
   "mimetype": "text/x-python",
   "name": "python",
   "nbconvert_exporter": "python",
   "pygments_lexer": "ipython3",
   "version": "3.7.1"
  }
 },
 "nbformat": 4,
 "nbformat_minor": 2
}
