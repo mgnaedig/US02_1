{
 "cells": [
  {
   "cell_type": "markdown",
   "metadata": {},
   "source": [
    "# first example he economics automation \n",
    "## import librairies"
   ]
  },
  {
   "cell_type": "code",
   "execution_count": 18,
   "metadata": {},
   "outputs": [],
   "source": [
    "import pandas # allows to manipulate datas easily and recover data from excel files\n",
    "import random\n",
    "import time"
   ]
  },
  {
   "cell_type": "markdown",
   "metadata": {},
   "source": [
    "# import excel"
   ]
  },
  {
   "cell_type": "code",
   "execution_count": 2,
   "metadata": {},
   "outputs": [],
   "source": [
    "filename = 'C:\\\\Users\\\\Manon\\\\Documents\\\\Cours UTC\\\\GB06\\\\US02\\\\Data-sheet-STUDENTS.xlsx' # give a name to our excel\n",
    "df = pandas.read_excel(filename, header=2, usecols='B:AR') #df =datafile + read an excel started from row 2 and column B \n",
    "#df.describe() # allows to have a quick view of datas"
   ]
  },
  {
   "cell_type": "code",
   "execution_count": 3,
   "metadata": {},
   "outputs": [
    {
     "name": "stdout",
     "output_type": "stream",
     "text": [
      "Afghanistan\n",
      "Albania\n",
      "Armenia\n",
      "Azerbaijan\n",
      "Bahrain\n",
      "Bangladesh\n",
      "Belarus\n",
      "Bhutan\n",
      "Bosnia and Herzegovina\n",
      "Brunei\n",
      "Bulgaria\n",
      "Cambodia\n",
      "China\n",
      "Croatia\n",
      "Czech Republic\n",
      "East Timor\n",
      "Egypt\n",
      "Estonia\n",
      "France\n",
      "Georgia\n",
      "Germany\n",
      "Hungary\n",
      "India\n",
      "Indonesia\n",
      "Iran\n",
      "Iraq\n",
      "Israel\n",
      "Jordan\n",
      "Kazakhstan\n",
      "Kuwait\n",
      "Kyrgyzstan\n",
      "Laos\n",
      "Latvia\n",
      "Lebanon\n",
      "Lithuania\n",
      "Macedonia\n",
      "Malaysia\n",
      "Maldives\n",
      "Moldova\n",
      "Mongolia\n",
      "Montenegro\n",
      "Myanmar\n",
      "Nepal\n",
      "Oman\n",
      "Pakistan\n",
      "Philippines\n",
      "Poland\n",
      "Qatar\n",
      "Romania\n",
      "Russia\n",
      "Saudi Arabia\n",
      "Serbia\n",
      "Singapore\n",
      "Slovakia\n",
      "Slovenia\n",
      "Sri Lanka\n",
      "Syria\n",
      "Tajikistan\n",
      "Thailiand\n",
      "The United Arab Emirates\n",
      "Turkey\n",
      "Turkmenistan\n",
      "United Kingdom\n",
      "United States of America\n",
      "Ukraine\n",
      "Uzbekistan\n",
      "Vietnam\n",
      "Yemen\n"
     ]
    }
   ],
   "source": [
    "df['Country (according to CN Gov):'] # show the column with this title \n",
    "for country in df['Country (according to CN Gov):'] : # for loop= for each country do\n",
    "    print (country.split('(')[0].strip()) # split : divise the string in several words, strip : delete spaces before the differents words"
   ]
  },
  {
   "cell_type": "code",
   "execution_count": 4,
   "metadata": {},
   "outputs": [],
   "source": [
    "import requests # library to call stuff on the internet, allow to make http requests "
   ]
  },
  {
   "cell_type": "code",
   "execution_count": 5,
   "metadata": {},
   "outputs": [
    {
     "name": "stdout",
     "output_type": "stream",
     "text": [
      "200\n",
      "data for Brazil is 3.87730742935074\n"
     ]
    }
   ],
   "source": [
    "url = 'http://api.worldbank.org/v2/country/bra/indicator/GC.TAX.IMPT.ZS?format=json' # names the url\n",
    "r= requests.get(url) # to get datas from a special resource, don't care if everybody can see it\n",
    "print(r.status_code) # give the status of our request for example 404 means : not found 200 means : OK\n",
    "data=r.json() # we get a dictionnary \n",
    "print('data for', data[1][1]['country']['value'], 'is', data[1][1]['value']) # print the country name and the value corresponding\n"
   ]
  },
  {
   "cell_type": "code",
   "execution_count": 6,
   "metadata": {},
   "outputs": [
    {
     "name": "stdout",
     "output_type": "stream",
     "text": [
      "France FRA\n"
     ]
    }
   ],
   "source": [
    "country_name = 'France'\n",
    "url='https://restcountries.eu/rest/v2/name/' + country_name # URL to connect a country name and its ID code\n",
    "r = requests.get(url)\n",
    "data = r.json()\n",
    "print(country_name, data[0]['alpha3Code']) # print the country name and its ID code\n"
   ]
  },
  {
   "cell_type": "code",
   "execution_count": 15,
   "metadata": {},
   "outputs": [],
   "source": [
    "def get_iso_code(Name_country):\n",
    "    try : \n",
    "        url = 'https://restcountries.eu/rest/v2/name/' + Name_country\n",
    "        r = requests.get(url)\n",
    "        data = r.json()\n",
    "        return data[0]['alpha3Code']\n",
    "    except KeyError :\n",
    "        print('[ERRUR] cannot get code for', Name_country)"
   ]
  },
  {
   "cell_type": "code",
   "execution_count": 16,
   "metadata": {},
   "outputs": [
    {
     "data": {
      "text/plain": [
       "'FRA'"
      ]
     },
     "execution_count": 16,
     "metadata": {},
     "output_type": "execute_result"
    }
   ],
   "source": [
    "get_iso_code('France')"
   ]
  },
  {
   "cell_type": "code",
   "execution_count": 24,
   "metadata": {},
   "outputs": [
    {
     "name": "stdout",
     "output_type": "stream",
     "text": [
      "Afghanistan AFG\n",
      "Albania ALB\n",
      "Armenia ARM\n",
      "Azerbaijan AZE\n",
      "Bahrain BHR\n",
      "Bangladesh BGD\n",
      "Belarus BLR\n",
      "Bhutan BTN\n",
      "Bosnia and Herzegovina BIH\n",
      "Brunei BRN\n",
      "Bulgaria BGR\n",
      "Cambodia KHM\n",
      "China CHN\n",
      "Croatia HRV\n",
      "Czech Republic CZE\n",
      "East Timor TLS\n",
      "Egypt EGY\n",
      "Estonia EST\n",
      "France FRA\n",
      "Georgia GEO\n",
      "Germany DEU\n",
      "Hungary HUN\n",
      "India IOT\n",
      "Indonesia IDN\n",
      "Iran IRN\n",
      "Iraq IRQ\n",
      "Israel ISR\n",
      "Jordan JOR\n",
      "Kazakhstan KAZ\n",
      "Kuwait KWT\n",
      "Kyrgyzstan KGZ\n",
      "Laos LAO\n",
      "Latvia LVA\n",
      "Lebanon LBN\n",
      "Lithuania LTU\n",
      "Macedonia MKD\n",
      "Malaysia MYS\n",
      "Maldives MDV\n",
      "Moldova MDA\n",
      "Mongolia MNG\n",
      "Montenegro MNE\n",
      "Myanmar MMR\n",
      "Nepal NPL\n",
      "Oman OMN\n",
      "Pakistan PAK\n",
      "Philippines PHL\n",
      "Poland POL\n",
      "Qatar QAT\n",
      "Romania ROU\n",
      "Russia RUS\n",
      "Saudi Arabia SAU\n",
      "Serbia SRB\n",
      "Singapore SGP\n",
      "Slovakia SVK\n",
      "Slovenia SVN\n",
      "Sri Lanka LKA\n",
      "Syria SYR\n",
      "Tajikistan TJK\n",
      "[ERRUR] cannot get code for Thailiand\n",
      "[ERRUR] cannot get code for The United Arab Emirates\n",
      "Turkey TUR\n",
      "Turkmenistan TKM\n",
      "United Kingdom GBR\n",
      "United States of America USA\n",
      "Ukraine UKR\n",
      "Uzbekistan UZB\n",
      "Vietnam VNM\n",
      "Yemen YEM\n"
     ]
    }
   ],
   "source": [
    "countries = {} #create a dictionnary\n",
    "for i, v in df['Country (according to CN Gov):'].iteritems(): #because pandas doesn't use the classic dicctionnary, it send values one by one \n",
    "    country_name = v.split('(')[0].strip()\n",
    "    if country_name not in countries.keys():\n",
    "        iso_code = get_iso_code(country_name)\n",
    "        if iso_code is not None :\n",
    "            countries[country_name] = iso_code\n",
    "            print(country_name,iso_code)\n",
    "            time.sleep(0.5*random.random()) #O.5 * une nombre random entre 0 et 1 "
   ]
  },
  {
   "cell_type": "code",
   "execution_count": 25,
   "metadata": {},
   "outputs": [],
   "source": [
    "countries['Thailiand']= 'THA'\n",
    "countries['The United Arab Emirates']='ARE'"
   ]
  },
  {
   "cell_type": "code",
   "execution_count": 27,
   "metadata": {},
   "outputs": [
    {
     "data": {
      "text/plain": [
       "True"
      ]
     },
     "execution_count": 27,
     "metadata": {},
     "output_type": "execute_result"
    }
   ],
   "source": [
    "len(countries.keys())==len(df['Country (according to CN Gov):'])"
   ]
  },
  {
   "cell_type": "code",
   "execution_count": 28,
   "metadata": {},
   "outputs": [],
   "source": [
    "import pickle \n",
    "with open ('countries.pickle', 'wb+') as fp : #si on utilise with open on a pas besoin de close # wb+ = write bite and add it\n",
    "    pickle.dump(countries, fp)"
   ]
  },
  {
   "cell_type": "code",
   "execution_count": 30,
   "metadata": {},
   "outputs": [
    {
     "data": {
      "text/plain": [
       "{'Afghanistan': 'AFG',\n",
       " 'Albania': 'ALB',\n",
       " 'Armenia': 'ARM',\n",
       " 'Azerbaijan': 'AZE',\n",
       " 'Bahrain': 'BHR',\n",
       " 'Bangladesh': 'BGD',\n",
       " 'Belarus': 'BLR',\n",
       " 'Bhutan': 'BTN',\n",
       " 'Bosnia and Herzegovina': 'BIH',\n",
       " 'Brunei': 'BRN',\n",
       " 'Bulgaria': 'BGR',\n",
       " 'Cambodia': 'KHM',\n",
       " 'China': 'CHN',\n",
       " 'Croatia': 'HRV',\n",
       " 'Czech Republic': 'CZE',\n",
       " 'East Timor': 'TLS',\n",
       " 'Egypt': 'EGY',\n",
       " 'Estonia': 'EST',\n",
       " 'France': 'FRA',\n",
       " 'Georgia': 'GEO',\n",
       " 'Germany': 'DEU',\n",
       " 'Hungary': 'HUN',\n",
       " 'India': 'IOT',\n",
       " 'Indonesia': 'IDN',\n",
       " 'Iran': 'IRN',\n",
       " 'Iraq': 'IRQ',\n",
       " 'Israel': 'ISR',\n",
       " 'Jordan': 'JOR',\n",
       " 'Kazakhstan': 'KAZ',\n",
       " 'Kuwait': 'KWT',\n",
       " 'Kyrgyzstan': 'KGZ',\n",
       " 'Laos': 'LAO',\n",
       " 'Latvia': 'LVA',\n",
       " 'Lebanon': 'LBN',\n",
       " 'Lithuania': 'LTU',\n",
       " 'Macedonia': 'MKD',\n",
       " 'Malaysia': 'MYS',\n",
       " 'Maldives': 'MDV',\n",
       " 'Moldova': 'MDA',\n",
       " 'Mongolia': 'MNG',\n",
       " 'Montenegro': 'MNE',\n",
       " 'Myanmar': 'MMR',\n",
       " 'Nepal': 'NPL',\n",
       " 'Oman': 'OMN',\n",
       " 'Pakistan': 'PAK',\n",
       " 'Philippines': 'PHL',\n",
       " 'Poland': 'POL',\n",
       " 'Qatar': 'QAT',\n",
       " 'Romania': 'ROU',\n",
       " 'Russia': 'RUS',\n",
       " 'Saudi Arabia': 'SAU',\n",
       " 'Serbia': 'SRB',\n",
       " 'Singapore': 'SGP',\n",
       " 'Slovakia': 'SVK',\n",
       " 'Slovenia': 'SVN',\n",
       " 'Sri Lanka': 'LKA',\n",
       " 'Syria': 'SYR',\n",
       " 'Tajikistan': 'TJK',\n",
       " 'Turkey': 'TUR',\n",
       " 'Turkmenistan': 'TKM',\n",
       " 'United Kingdom': 'GBR',\n",
       " 'United States of America': 'USA',\n",
       " 'Ukraine': 'UKR',\n",
       " 'Uzbekistan': 'UZB',\n",
       " 'Vietnam': 'VNM',\n",
       " 'Yemen': 'YEM',\n",
       " 'Thailiand': 'THA',\n",
       " 'The United Arab Emirates': 'ARE'}"
      ]
     },
     "execution_count": 30,
     "metadata": {},
     "output_type": "execute_result"
    }
   ],
   "source": [
    "with open ('countries.pickle','rb') as fp: # rb = read bite\n",
    "    test=pickle.load(fp)\n",
    "test"
   ]
  }
 ],
 "metadata": {
  "kernelspec": {
   "display_name": "Python 3",
   "language": "python",
   "name": "python3"
  },
  "language_info": {
   "codemirror_mode": {
    "name": "ipython",
    "version": 3
   },
   "file_extension": ".py",
   "mimetype": "text/x-python",
   "name": "python",
   "nbconvert_exporter": "python",
   "pygments_lexer": "ipython3",
   "version": "3.7.1"
  }
 },
 "nbformat": 4,
 "nbformat_minor": 2
}
